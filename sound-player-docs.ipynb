{
 "cells": [
  {
   "cell_type": "markdown",
   "metadata": {},
   "source": [
    "# SoundPlayer Usage Instructions\n",
    "\n",
    "The `SoundPlayer` class plays sounds contained within the Sounds directory in the project.  Sounds can be played simmply by initializing the class and calling the available methods.\n",
    "\n",
    "The sounds that are available to play are located in the folder `Sounds/`.  Files of type .mp3 and .wav are supported."
   ]
  },
  {
   "cell_type": "markdown",
   "metadata": {},
   "source": [
    "## Initialization\n",
    "\n",
    "Initialize the helper by importing the class `SoundPlayer` from the module `sound_player`.  Once imported, the SoundPlayer class can be initialized with or without setting the directory to listen to.  If no directory is set, it will default to looking for a local directory named `Sounds/'."
   ]
  },
  {
   "cell_type": "code",
   "execution_count": 1,
   "metadata": {},
   "outputs": [],
   "source": [
    "from sound_player import SoundPlayer\n",
    "\n",
    "# Initializing with the default sound file path\n",
    "player = SoundPlayer()\n",
    "\n",
    "# Initializing with a set sound file path\n",
    "player_custom = SoundPlayer('custom_sounds/')"
   ]
  },
  {
   "cell_type": "markdown",
   "metadata": {},
   "source": [
    "## Getting a List of Available Sounds\n",
    "In order to get a list of the sounds that are available to play, call the method `SoundPlayer.list_sounds()`."
   ]
  },
  {
   "cell_type": "code",
   "execution_count": 2,
   "metadata": {},
   "outputs": [
    {
     "data": {
      "text/plain": [
       "[]"
      ]
     },
     "execution_count": 2,
     "metadata": {},
     "output_type": "execute_result"
    }
   ],
   "source": [
    "player.list_sounds()"
   ]
  },
  {
   "cell_type": "markdown",
   "metadata": {},
   "source": [
    "## Playing a Sound\n",
    "\n",
    "A sound can be played by calling the method `SoundPlayer.play(sound)`, where sound is the string name of the sound that will be played.\n",
    "\n",
    "__Note:__ If a sound file is not stored in this repository (in a directory named \"Sounds\", then this next code segment will fail."
   ]
  },
  {
   "cell_type": "code",
   "execution_count": 3,
   "metadata": {
    "tags": []
   },
   "outputs": [
    {
     "ename": "IndexError",
     "evalue": "list index out of range",
     "output_type": "error",
     "traceback": [
      "\u001b[0;31m---------------------------------------------------------------------------\u001b[0m",
      "\u001b[0;31mIndexError\u001b[0m                                Traceback (most recent call last)",
      "Input \u001b[0;32mIn [3]\u001b[0m, in \u001b[0;36m<cell line: 1>\u001b[0;34m()\u001b[0m\n\u001b[0;32m----> 1\u001b[0m sound \u001b[38;5;241m=\u001b[39m \u001b[43mplayer\u001b[49m\u001b[38;5;241;43m.\u001b[39;49m\u001b[43mlist_sounds\u001b[49m\u001b[43m(\u001b[49m\u001b[43m)\u001b[49m\u001b[43m[\u001b[49m\u001b[38;5;241;43m0\u001b[39;49m\u001b[43m]\u001b[49m\n\u001b[1;32m      2\u001b[0m player\u001b[38;5;241m.\u001b[39mplay(sound)\n",
      "\u001b[0;31mIndexError\u001b[0m: list index out of range"
     ]
    }
   ],
   "source": [
    "sound = player.list_sounds()[0]\n",
    "player.play(sound)"
   ]
  },
  {
   "cell_type": "markdown",
   "metadata": {},
   "source": [
    "## Rotating Through Sounds\n",
    "When the method `SoundPlayer.play_rotated_sound()` is called, a different sound within the Sounds folder will be played each time."
   ]
  },
  {
   "cell_type": "code",
   "execution_count": 3,
   "metadata": {
    "tags": []
   },
   "outputs": [
    {
     "name": "stdout",
     "output_type": "stream",
     "text": [
      "playing name wlaugh.mp3\n",
      "playing name hag_idle.mp3\n",
      "playing name ghosts03.mp3\n"
     ]
    }
   ],
   "source": [
    "for i in range(len(player.list_sounds())):\n",
    "    player.play_rotated_sound()"
   ]
  },
  {
   "cell_type": "code",
   "execution_count": null,
   "metadata": {},
   "outputs": [],
   "source": []
  }
 ],
 "metadata": {
  "kernelspec": {
   "display_name": "Python 3 (ipykernel)",
   "language": "python",
   "name": "python3"
  },
  "language_info": {
   "codemirror_mode": {
    "name": "ipython",
    "version": 3
   },
   "file_extension": ".py",
   "mimetype": "text/x-python",
   "name": "python",
   "nbconvert_exporter": "python",
   "pygments_lexer": "ipython3",
   "version": "3.9.2"
  }
 },
 "nbformat": 4,
 "nbformat_minor": 2
}
