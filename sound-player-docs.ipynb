{
 "cells": [
  {
   "cell_type": "markdown",
   "metadata": {},
   "source": [
    "# SoundPlayer Usage Instructions\n",
    "\n",
    "The `SoundPlayer` class plays sounds contained within the Sounds directory in the project.  Sounds can be played simmply by initializing the class and calling the available methods.\n",
    "\n",
    "The sounds that are available to play are located in the folder `Sounds/`.  Files of type .mp3 and .wav are supported."
   ]
  },
  {
   "cell_type": "markdown",
   "metadata": {},
   "source": [
    "## Getting a List of Available Sounds\n",
    "In order to get a list of the sounds that are available to play, call the method `SoundPlayer.list_sounds()`."
   ]
  },
  {
   "cell_type": "code",
   "execution_count": 4,
   "metadata": {},
   "outputs": [
    {
     "data": {
      "text/plain": [
       "[]"
      ]
     },
     "execution_count": 4,
     "metadata": {},
     "output_type": "execute_result"
    }
   ],
   "source": [
    "from sound_player import SoundPlayer\n",
    "\n",
    "player = SoundPlayer()\n",
    "player.list_sounds()"
   ]
  },
  {
   "cell_type": "markdown",
   "metadata": {},
   "source": [
    "## Playing a Sound\n",
    "\n",
    "A sound can be played by calling the method `SoundPlayer.play(sound)`, where sound is the string name of the sound that will be played."
   ]
  },
  {
   "cell_type": "code",
   "execution_count": 2,
   "metadata": {
    "tags": []
   },
   "outputs": [
    {
     "name": "stdout",
     "output_type": "stream",
     "text": [
      "playing name wlaugh.mp3\n"
     ]
    }
   ],
   "source": [
    "sound = player.list_sounds()[0]\n",
    "player.play(sound)"
   ]
  },
  {
   "cell_type": "markdown",
   "metadata": {},
   "source": [
    "## Rotating Through Sounds\n",
    "When the method `SoundPlayer.play_rotated_sound()` is called, a different sound within the Sounds folder will be played each time."
   ]
  },
  {
   "cell_type": "code",
   "execution_count": 3,
   "metadata": {
    "tags": []
   },
   "outputs": [
    {
     "name": "stdout",
     "output_type": "stream",
     "text": [
      "playing name wlaugh.mp3\n",
      "playing name hag_idle.mp3\n",
      "playing name ghosts03.mp3\n"
     ]
    }
   ],
   "source": [
    "for i in range(len(player.list_sounds())):\n",
    "    player.play_rotated_sound()"
   ]
  },
  {
   "cell_type": "code",
   "execution_count": null,
   "metadata": {},
   "outputs": [],
   "source": []
  }
 ],
 "metadata": {
  "kernelspec": {
   "display_name": "Python 3 (ipykernel)",
   "language": "python",
   "name": "python3"
  },
  "language_info": {
   "codemirror_mode": {
    "name": "ipython",
    "version": 3
   },
   "file_extension": ".py",
   "mimetype": "text/x-python",
   "name": "python",
   "nbconvert_exporter": "python",
   "pygments_lexer": "ipython3",
   "version": "3.9.2"
  }
 },
 "nbformat": 4,
 "nbformat_minor": 2
}
